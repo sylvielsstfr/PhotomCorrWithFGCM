{
 "cells": [
  {
   "cell_type": "markdown",
   "id": "40a4c5a6-85fa-4fb3-98b6-0abc41aedc35",
   "metadata": {},
   "source": [
    "# Photometric Color correction"
   ]
  },
  {
   "cell_type": "markdown",
   "id": "43ca2a5c-5dba-4684-b6c0-8eb9ea5ad486",
   "metadata": {},
   "source": [
    "## Import"
   ]
  },
  {
   "cell_type": "code",
   "execution_count": null,
   "id": "44468411-2ee3-4b13-99ad-96e69eefb390",
   "metadata": {},
   "outputs": [],
   "source": [
    "# Import some generally useful packages\n",
    "\n",
    "import os\n",
    "import numpy as np\n",
    "import matplotlib.pyplot as plt\n",
    "%matplotlib inline\n",
    "import pandas as pd"
   ]
  },
  {
   "cell_type": "code",
   "execution_count": null,
   "id": "ee1cbbc3-160a-43b9-8adf-1780cfcf4ef5",
   "metadata": {},
   "outputs": [],
   "source": [
    "from scipy import interpolate"
   ]
  },
  {
   "cell_type": "code",
   "execution_count": null,
   "id": "b4446d94-c11c-4589-941c-91ad80b41737",
   "metadata": {},
   "outputs": [],
   "source": [
    "# Import the primary photometry classes from rubin_sim.photUtils\n",
    "\n",
    "import rubin_sim.photUtils.Bandpass as Bandpass\n",
    "import rubin_sim.photUtils.Sed as Sed"
   ]
  },
  {
   "cell_type": "code",
   "execution_count": null,
   "id": "c4235d9c-f02b-426f-b5d9-2ce4581b074f",
   "metadata": {},
   "outputs": [],
   "source": [
    "from libradtranpy import  libsimulateVisible"
   ]
  },
  {
   "cell_type": "markdown",
   "id": "29cf181f-e36f-4a7f-8312-237212690eb1",
   "metadata": {},
   "source": [
    "## Configuration"
   ]
  },
  {
   "cell_type": "code",
   "execution_count": null,
   "id": "2748d898-faa2-4d6d-ab59-d89e37181c73",
   "metadata": {},
   "outputs": [],
   "source": [
    "path_throughput=\"/sps/lsst/groups/auxtel/softs/github/desc/throughputs/baseline\""
   ]
  },
  {
   "cell_type": "code",
   "execution_count": null,
   "id": "01c96ebc-dba3-473f-81b3-40c6557ef6c9",
   "metadata": {},
   "outputs": [],
   "source": [
    "atm_std_filename = \"atmos_std.dat\""
   ]
  },
  {
   "cell_type": "code",
   "execution_count": null,
   "id": "c040cd29-6c53-4a8e-84a7-0cba3de7e9cd",
   "metadata": {},
   "outputs": [],
   "source": [
    "filter_filenames = [\"total_u.dat\",\"total_g.dat\",\"total_r.dat\",\"total_i.dat\",\"total_z.dat\",\"total_y.dat\" ]\n",
    "filter_tagnames = [\"u\",\"g\",\"r\",\"i\",\"z\",\"y\"]\n",
    "filter_color = [\"b\",\"g\",\"r\",\"orange\",\"grey\",\"k\"]\n",
    "NFILT=len(filter_filenames)"
   ]
  },
  {
   "cell_type": "code",
   "execution_count": null,
   "id": "84900efa-a647-4946-bf68-a03da59d3ec0",
   "metadata": {},
   "outputs": [],
   "source": [
    "WLMIN=300.\n",
    "WLMAX=1100.\n",
    "WLBIN=1.\n",
    "NWLBIN=int((WLMAX-WLMIN)/WLBIN)\n",
    "WL=np.linspace(WLMIN,WLMAX,NWLBIN)"
   ]
  },
  {
   "cell_type": "markdown",
   "id": "4736fab2-de99-470d-9cc5-46cd080489c6",
   "metadata": {},
   "source": [
    "## Initialisation"
   ]
  },
  {
   "cell_type": "code",
   "execution_count": null,
   "id": "9603282c-74a7-4a1f-b7ae-e2804936bb70",
   "metadata": {},
   "outputs": [],
   "source": [
    "df_std=pd.DataFrame()"
   ]
  },
  {
   "cell_type": "code",
   "execution_count": null,
   "id": "67c23736-b997-483c-aef4-130b4f8f0dff",
   "metadata": {},
   "outputs": [],
   "source": [
    "df_std[\"wl\"] = WL"
   ]
  },
  {
   "cell_type": "markdown",
   "id": "135ebfef-2433-49d5-926d-e193954be787",
   "metadata": {},
   "source": [
    "### Standard atmosphere"
   ]
  },
  {
   "cell_type": "code",
   "execution_count": null,
   "id": "95f1724a-2635-4dc2-a5fe-324e1b7e440c",
   "metadata": {},
   "outputs": [],
   "source": [
    "fullfilename=os.path.join(path_throughput,atm_std_filename)"
   ]
  },
  {
   "cell_type": "code",
   "execution_count": null,
   "id": "681d9af4-551f-4af7-bb6b-8625f87f2081",
   "metadata": {},
   "outputs": [],
   "source": [
    "arr= np.loadtxt(fullfilename)"
   ]
  },
  {
   "cell_type": "code",
   "execution_count": null,
   "id": "01c12d9c-4d3b-4d94-9075-1647a6d991ee",
   "metadata": {},
   "outputs": [],
   "source": [
    "f = interpolate.interp1d(x=arr[:,0], y=arr[:,1],fill_value=\"extrapolate\")"
   ]
  },
  {
   "cell_type": "code",
   "execution_count": null,
   "id": "68254d95-2092-4ab5-9871-5fe8d59c8005",
   "metadata": {},
   "outputs": [],
   "source": [
    "atm_std=f(WL)"
   ]
  },
  {
   "cell_type": "code",
   "execution_count": null,
   "id": "e498e6da-fd0e-4eab-8936-6a6a4973c791",
   "metadata": {},
   "outputs": [],
   "source": [
    "df_std[\"atm\"] = atm_std"
   ]
  },
  {
   "cell_type": "markdown",
   "id": "62e75644-5625-4061-b84e-f7b574f90f04",
   "metadata": {},
   "source": [
    "### Total filters"
   ]
  },
  {
   "cell_type": "code",
   "execution_count": null,
   "id": "6cc2f228-cda2-4f56-ba1d-44431d37a304",
   "metadata": {},
   "outputs": [],
   "source": [
    "FILTERWL = np.zeros((NWLBIN,3))\n",
    "for index,filename in enumerate(filter_filenames):\n",
    "    fullfilename=os.path.join(path_throughput,filename)\n",
    "    arr= np.loadtxt(fullfilename)\n",
    "    ff = interpolate.interp1d(x=arr[:,0], y=arr[:,1],fill_value=\"extrapolate\")\n",
    "    throughput1=ff(WL)\n",
    "    throughput2=throughput1/atm_std\n",
    "    tag1=\"tot_\"+filter_tagnames[index]\n",
    "    tag2=\"inst_\"+filter_tagnames[index]\n",
    "    df_std[tag1]= throughput1\n",
    "    df_std[tag2]= throughput2\n",
    "    indexes=np.where(throughput2>0.05)[0]\n",
    "    FILTERWL[index,0]=WL[indexes.min()] \n",
    "    FILTERWL[index,1]=WL[indexes.max()] \n",
    "    lambdab=np.trapz(throughput2,WL)/np.trapz(throughput2/WL,WL)\n",
    "    FILTERWL[index,2]=lambdab"
   ]
  },
  {
   "cell_type": "code",
   "execution_count": null,
   "id": "9ec1309b-0547-4efd-891a-2d87d0e39a32",
   "metadata": {},
   "outputs": [],
   "source": [
    "FILTERWL"
   ]
  },
  {
   "cell_type": "code",
   "execution_count": null,
   "id": "4067ed0d-e513-4a4d-a612-8f10bde25212",
   "metadata": {},
   "outputs": [],
   "source": [
    "for index in range(NFILT):\n",
    "    tag=\"inst_\"+filter_tagnames[index]\n",
    "    plt.plot(WL,df_std[tag].values,color=filter_color[index]) \n",
    "    plt.axvline(FILTERWL[index,2],color=filter_color[index],linestyle=\"-.\")\n",
    "    #plt.axvline(FILTERWL[index,0],color=filter_color[index],linestyle=\":\")"
   ]
  },
  {
   "cell_type": "code",
   "execution_count": null,
   "id": "7547e244-19f4-43cf-a38b-c86661157171",
   "metadata": {},
   "outputs": [],
   "source": [
    "for index in range(NFILT):\n",
    "    tag=\"tot_\"+filter_tagnames[index]\n",
    "    plt.plot(WL,df_std[tag].values,color=filter_color[index]) \n",
    "    plt.axvline(FILTERWL[index,2],color=filter_color[index],linestyle=\":\")"
   ]
  },
  {
   "cell_type": "markdown",
   "id": "a931a389-fc09-44e6-941c-2fcc5476893e",
   "metadata": {},
   "source": [
    "## Functions"
   ]
  },
  {
   "cell_type": "code",
   "execution_count": null,
   "id": "a5fb78b1-3cc5-4375-a916-a264219798a9",
   "metadata": {},
   "outputs": [],
   "source": [
    "def fII0(wl,s):\n",
    "    return np.trapz(s/wl,wl)"
   ]
  },
  {
   "cell_type": "code",
   "execution_count": null,
   "id": "7c676083-ca34-4079-8475-76ea3899c9a5",
   "metadata": {},
   "outputs": [],
   "source": [
    "def fII1(wl,s,wlb):\n",
    "    return np.trapz(s*(wl-wlb)/wl,wl)"
   ]
  },
  {
   "cell_type": "code",
   "execution_count": null,
   "id": "872ccd7c-cfdf-4c8f-9157-d94e780de4ca",
   "metadata": {},
   "outputs": [],
   "source": [
    "def fII2(wl,s,wlb):\n",
    "    return np.trapz(s*(wl-wlb)**2/wl,wl)"
   ]
  },
  {
   "cell_type": "code",
   "execution_count": null,
   "id": "cff5c153-ae7f-490b-9192-27c566a97d2b",
   "metadata": {},
   "outputs": [],
   "source": [
    "def fII10(wl,s,wlb):\n",
    "    return fII1(wl,s,wlb)/fII0(wl,s)"
   ]
  },
  {
   "cell_type": "code",
   "execution_count": null,
   "id": "9e26039f-73f5-49eb-90ae-199c36c0d655",
   "metadata": {},
   "outputs": [],
   "source": [
    "def fII20(wl,s,wlb):\n",
    "    return fII2(wl,s,wlb)/fII0(wl,s)"
   ]
  },
  {
   "cell_type": "code",
   "execution_count": null,
   "id": "7f85b4d0-71c7-4a5a-acc1-a5528d088680",
   "metadata": {},
   "outputs": [],
   "source": [
    "def CalculateIIntegrals(df_S,wlb):\n",
    "    \"\"\"\n",
    "    \"\"\"\n",
    "    II0 = np.zeros(NFILT)\n",
    "    II1 = np.zeros(NFILT)\n",
    "    II2 = np.zeros(NFILT)\n",
    "    II10 = np.zeros(NFILT)\n",
    "    II20 = np.zeros(NFILT)\n",
    "    \n",
    "    for index in range(NFILT):\n",
    "        tag=\"tot_\"+filter_tagnames[index]\n",
    "        wl=df_S[\"wl\"].values\n",
    "        S=df_S[tag].values\n",
    "        II0[index] = fII0(wl,S)\n",
    "        II1[index] = fII1(wl,S,wlb[index])\n",
    "        II2[index] = fII2(wl,S,wlb[index])\n",
    "        II10[index] = fII10(wl,S,wlb[index])\n",
    "        II20[index] = fII20(wl,S,wlb[index])\n",
    "        \n",
    "    df_II = pd.DataFrame()\n",
    "    df_II[\"II0\"]=II0\n",
    "    df_II[\"II1\"]=II1\n",
    "    df_II[\"II2\"]=II2\n",
    "    df_II[\"II10\"]=II10\n",
    "    df_II[\"II20\"]=II20    \n",
    "    return df_II\n",
    "    "
   ]
  },
  {
   "cell_type": "markdown",
   "id": "f8d1901f-15fe-40e7-a26f-27ca63df18c5",
   "metadata": {},
   "source": [
    "# Calculate Integrals for Standard atmosphere"
   ]
  },
  {
   "cell_type": "code",
   "execution_count": null,
   "id": "07eea7c0-cb40-4593-99f8-90d08d522f20",
   "metadata": {},
   "outputs": [],
   "source": [
    "df_IIstd = CalculateIIntegrals(df_std,FILTERWL[:,2])"
   ]
  },
  {
   "cell_type": "code",
   "execution_count": null,
   "id": "6d3c19bf-c7bb-4288-bbca-307901a5356c",
   "metadata": {},
   "outputs": [],
   "source": [
    "df_IIstd "
   ]
  },
  {
   "cell_type": "markdown",
   "id": "c117fd3f-e2a0-4253-9741-e71686143bb7",
   "metadata": {},
   "source": [
    "# Airmass effect"
   ]
  },
  {
   "cell_type": "code",
   "execution_count": null,
   "id": "d5a20bfd-ba28-44c4-9002-fd19a7c2c8f5",
   "metadata": {},
   "outputs": [],
   "source": [
    "all_am = np.linspace(1,3,15)\n",
    "pwv= 3\n",
    "aer= 0.04\n",
    "oz = 300"
   ]
  },
  {
   "cell_type": "code",
   "execution_count": null,
   "id": "2f9405df-d5d7-4e31-9918-c4ddc2f9f7e9",
   "metadata": {},
   "outputs": [],
   "source": [
    "am"
   ]
  },
  {
   "cell_type": "code",
   "execution_count": null,
   "id": "fd1a2e3e-9681-4141-b7bd-b8c972a0087e",
   "metadata": {},
   "outputs": [],
   "source": [
    "all_df_obs = []\n",
    "\n",
    "\n",
    "for index,am in enumerate(all_am):\n",
    "    path,thefile = libsimulateVisible.ProcessSimulationaer(am[0],pwv,oz,aer,0,prof_str='us',proc_str='sa',cloudext=0.0, FLAG_VERBOSE=False)\n",
    "    data = np.loadtxt(os.path.join(path,thefile))\n",
    "    f = interpolate.interp1d(x=data[:,0], y=data[:,1],fill_value=\"extrapolate\")\n",
    "    atm=f(WL)\n",
    "    \n",
    "    \n",
    "    df_obs=pd.DataFrame()\n",
    "    df_obs[\"wl\"] = WL\n",
    "    df_obs[\"atm\"] = atm\n",
    "    \n",
    "    tag1=\"tot_\"+filter_tagnames[index]\n",
    "    tag2=\"inst_\"+filter_tagnames[index]\n",
    "    \n",
    "    df_obs[tag1]= df_std[tag2].values*atm\n",
    "    df_obs[tag2]= df_std[tag2].values\n",
    "    \n",
    "    all_df_obs.append(df_obs)\n",
    "    "
   ]
  },
  {
   "cell_type": "code",
   "execution_count": null,
   "id": "305555bc-fe14-4a1a-94b2-4adcfaa4b166",
   "metadata": {},
   "outputs": [],
   "source": []
  }
 ],
 "metadata": {
  "kernelspec": {
   "display_name": "anaconda3_py39_auxtel",
   "language": "python",
   "name": "anaconda3_py39_auxtel"
  },
  "language_info": {
   "codemirror_mode": {
    "name": "ipython",
    "version": 3
   },
   "file_extension": ".py",
   "mimetype": "text/x-python",
   "name": "python",
   "nbconvert_exporter": "python",
   "pygments_lexer": "ipython3",
   "version": "3.9.13"
  }
 },
 "nbformat": 4,
 "nbformat_minor": 5
}
